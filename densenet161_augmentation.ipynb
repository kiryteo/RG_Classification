{
  "nbformat": 4,
  "nbformat_minor": 0,
  "metadata": {
    "colab": {
      "name": "densenet161_augmentation.ipynb",
      "version": "0.3.2",
      "provenance": [],
      "collapsed_sections": []
    },
    "kernelspec": {
      "name": "python3",
      "display_name": "Python 3"
    },
    "accelerator": "GPU"
  },
  "cells": [
    {
      "cell_type": "code",
      "metadata": {
        "id": "Xi8jVb_RsRYR",
        "colab_type": "code",
        "colab": {}
      },
      "source": [
        "#connect with drive\n",
        "\n",
        "from google.colab import drive\n",
        "drive.mount(\"/content/drive\")"
      ],
      "execution_count": 0,
      "outputs": []
    },
    {
      "cell_type": "code",
      "metadata": {
        "id": "z19PkgFjshrl",
        "colab_type": "code",
        "colab": {}
      },
      "source": [
        "%cd drive/My\\ Drive"
      ],
      "execution_count": 0,
      "outputs": []
    },
    {
      "cell_type": "code",
      "metadata": {
        "id": "90fErvAGrx6g",
        "colab_type": "code",
        "colab": {}
      },
      "source": [
        "%reload_ext autoreload\n",
        "%autoreload 2\n",
        "%matplotlib inline"
      ],
      "execution_count": 0,
      "outputs": []
    },
    {
      "cell_type": "code",
      "metadata": {
        "id": "g0SCLgBpr6fj",
        "colab_type": "code",
        "colab": {}
      },
      "source": [
        "from fastai import *\n",
        "from fastai.vision import *\n",
        "bs = 32"
      ],
      "execution_count": 0,
      "outputs": []
    },
    {
      "cell_type": "code",
      "metadata": {
        "id": "276n4QGWsBzN",
        "colab_type": "code",
        "colab": {}
      },
      "source": [
        "#Load and normalize data\n",
        "\n",
        "path_img = Path('Final_rgdata')\n",
        "data = ImageDataBunch.from_folder(path=path_img, train='train', valid='valid', ds_tfms=get_transforms(),size=224, bs=bs)\n",
        "data.normalize(imagenet_stats)"
      ],
      "execution_count": 0,
      "outputs": []
    },
    {
      "cell_type": "code",
      "metadata": {
        "id": "7J0lzKn1J3wy",
        "colab_type": "code",
        "colab": {}
      },
      "source": [
        "data.show_batch(rows=3, figsize=(8,6))"
      ],
      "execution_count": 0,
      "outputs": []
    },
    {
      "cell_type": "code",
      "metadata": {
        "id": "WcnqbLoXLFfP",
        "colab_type": "code",
        "colab": {}
      },
      "source": [
        "print(data.classes)\n",
        "len(data.classes), data.c"
      ],
      "execution_count": 0,
      "outputs": []
    },
    {
      "cell_type": "code",
      "metadata": {
        "id": "mxTmqFUksrr5",
        "colab_type": "code",
        "colab": {}
      },
      "source": [
        "#define the initial architecture\n",
        "learn = create_cnn(data, models.densenet161, metrics=error_rate)"
      ],
      "execution_count": 0,
      "outputs": []
    },
    {
      "cell_type": "code",
      "metadata": {
        "id": "7z8zg-_qte9O",
        "colab_type": "code",
        "colab": {}
      },
      "source": [
        "#train the model\n",
        "learn.fit_one_cycle(24)"
      ],
      "execution_count": 0,
      "outputs": []
    },
    {
      "cell_type": "code",
      "metadata": {
        "id": "FDHC9fFZtjnX",
        "colab_type": "code",
        "colab": {}
      },
      "source": [
        "#save model\n",
        "learn.save('Final_d161')"
      ],
      "execution_count": 0,
      "outputs": []
    },
    {
      "cell_type": "code",
      "metadata": {
        "id": "L3Cz3onQKPjC",
        "colab_type": "code",
        "colab": {}
      },
      "source": [
        "#interpret the training reults\n",
        "interp = ClassificationInterpretation.from_learner(learn)"
      ],
      "execution_count": 0,
      "outputs": []
    },
    {
      "cell_type": "code",
      "metadata": {
        "id": "8Mc9El2oKUfw",
        "colab_type": "code",
        "colab": {}
      },
      "source": [
        "interp.plot_top_losses(8, figsize=(8,8))"
      ],
      "execution_count": 0,
      "outputs": []
    },
    {
      "cell_type": "code",
      "metadata": {
        "id": "Up77_NzLKZkK",
        "colab_type": "code",
        "colab": {}
      },
      "source": [
        "interp.most_confused(min_val=2)"
      ],
      "execution_count": 0,
      "outputs": []
    },
    {
      "cell_type": "code",
      "metadata": {
        "id": "e2RdIeqzR_mF",
        "colab_type": "code",
        "outputId": "65abc87b-9880-4a65-ac64-6dafe8bebd44",
        "colab": {
          "base_uri": "https://localhost:8080/",
          "height": 743
        }
      },
      "source": [
        "#get the results for the validation set\n",
        "interp.plot_confusion_matrix(figsize=(10,10))"
      ],
      "execution_count": 0,
      "outputs": [
        {
          "output_type": "display_data",
          "data": {
            "image/png": "[encoded data removed]",
            "text/plain": [
              "<Figure size 720x720 with 1 Axes>"
            ]
          },
          "metadata": {
            "tags": []
          }
        }
      ]
    },
    {
      "cell_type": "code",
      "metadata": {
        "id": "xP0GhyJNoziz",
        "colab_type": "code",
        "colab": {}
      },
      "source": [
        "#export the model as pickle\n",
        "learn.export('Final_d161.pkl')"
      ],
      "execution_count": 0,
      "outputs": []
    },
    {
      "cell_type": "code",
      "metadata": {
        "id": "ZKzfZOQdKxBf",
        "colab_type": "code",
        "colab": {}
      },
      "source": [
        "img = open_image('Final_rgdata/test/Bent/J003113.86+001236.2.jpeg')\n",
        "img"
      ],
      "execution_count": 0,
      "outputs": []
    },
    {
      "cell_type": "code",
      "metadata": {
        "id": "0U08mOpFqKUP",
        "colab_type": "code",
        "colab": {}
      },
      "source": [
        "#predict on a single image\n",
        "pred_class,pred_idx,outputs = learn.predict(img)\n",
        "pred_class"
      ],
      "execution_count": 0,
      "outputs": []
    },
    {
      "cell_type": "code",
      "metadata": {
        "id": "N7CdBoyhrU6B",
        "colab_type": "code",
        "colab": {}
      },
      "source": [
        "#optional : To optimize the model and parameter tuning\n",
        "learn.lr_find()\n",
        "learn.recorder.plot()\n",
        "\n",
        "#Tweak the layers\n",
        "learn.unfreeze()\n",
        "learn.fit_one_cycle(4, max_lr=slice(1e-5,1e-3)) #based on the best learning rate"
      ],
      "execution_count": 0,
      "outputs": []
    },
    {
      "cell_type": "code",
      "metadata": {
        "id": "gYQPDXbq37ln",
        "colab_type": "code",
        "colab": {}
      },
      "source": [
        "#Optional: Save the model again, if tweaked and optimized\n",
        "learn.save('Final_d161')"
      ],
      "execution_count": 0,
      "outputs": []
    },
    {
      "cell_type": "code",
      "metadata": {
        "id": "1mwcpGu74pT8",
        "colab_type": "code",
        "colab": {}
      },
      "source": [
        "#Optional: Export the better model if optimized\n",
        "learn.export('Final_d161.pkl')"
      ],
      "execution_count": 0,
      "outputs": []
    },
    {
      "cell_type": "code",
      "metadata": {
        "id": "b3Y1SZfD641g",
        "colab_type": "code",
        "colab": {}
      },
      "source": [
        "#Testing the model\n",
        "\n",
        "path_img = Path('Final_rgdata')## Loading data \n",
        "#data = ImageDataBunch.from_folder(path=path_img, train='train', valid='valid', ds_tfms=get_transforms(),size=224, bs=bs), check_ext=False)## Normalizing data based on Image net parameters\n",
        "data = ImageDataBunch.from_folder(path=path_img, train='train', valid='test', ds_tfms=get_transforms(),size=224, bs=bs)\n",
        "data.normalize(imagenet_stats)"
      ],
      "execution_count": 0,
      "outputs": []
    },
    {
      "cell_type": "code",
      "metadata": {
        "id": "iTH1FxS0ZKdK",
        "colab_type": "code",
        "colab": {}
      },
      "source": [
        "#Get the architecture and reload the model weights\n",
        "learn = create_cnn(data, models.densenet161, metrics=error_rate)"
      ],
      "execution_count": 0,
      "outputs": []
    },
    {
      "cell_type": "code",
      "metadata": {
        "id": "C40oXJ-I_b-K",
        "colab_type": "code",
        "colab": {}
      },
      "source": [
        "learn = learn.load('Final_d161')"
      ],
      "execution_count": 0,
      "outputs": []
    },
    {
      "cell_type": "code",
      "metadata": {
        "id": "hEmeL9cu5PjJ",
        "colab_type": "code",
        "colab": {}
      },
      "source": [
        "#interpret for the test data\n",
        "interp = ClassificationInterpretation.from_learner(learn)"
      ],
      "execution_count": 0,
      "outputs": []
    },
    {
      "cell_type": "code",
      "metadata": {
        "id": "1n54lbOi5TmI",
        "colab_type": "code",
        "colab": {}
      },
      "source": [
        "interp.plot_top_losses(8, figsize=(8,8))"
      ],
      "execution_count": 0,
      "outputs": []
    },
    {
      "cell_type": "code",
      "metadata": {
        "id": "MUMvaZS15XOs",
        "colab_type": "code",
        "outputId": "2e726965-cce0-4e4b-e91c-f34d2f3bde17",
        "colab": {
          "base_uri": "https://localhost:8080/",
          "height": 743
        }
      },
      "source": [
        "interp.plot_confusion_matrix(figsize=(10,10))"
      ],
      "execution_count": 0,
      "outputs": [
        {
          "output_type": "display_data",
          "data": {
            "image/png": "[encoded data removed]",
            "text/plain": [
              "<Figure size 720x720 with 1 Axes>"
            ]
          },
          "metadata": {
            "tags": []
          }
        }
      ]
    },
    {
      "cell_type": "code",
      "metadata": {
        "id": "uABMbf7Q5he9",
        "colab_type": "code",
        "colab": {}
      },
      "source": [
        "interp.most_confused(min_val=2)"
      ],
      "execution_count": 0,
      "outputs": []
    },
    {
      "cell_type": "code",
      "metadata": {
        "id": "ts1-Hu4Q5lQ3",
        "colab_type": "code",
        "colab": {}
      },
      "source": [
        "learn.export('Final_d161.pkl')"
      ],
      "execution_count": 0,
      "outputs": []
    }
  ]
}